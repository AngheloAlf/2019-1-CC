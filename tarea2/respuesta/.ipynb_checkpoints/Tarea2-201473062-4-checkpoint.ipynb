{
 "cells": [
  {
   "cell_type": "markdown",
   "metadata": {
    "colab_type": "text",
    "id": "n3TsBRMf2fLf"
   },
   "source": [
    "<img src=\"escudo_utfsm.gif\" style=\"float:right;height:100px\">\n",
    "<img src=\"IsotipoDIisocolor.png\" style=\"float:left;height:100px\">\n",
    "<center>\n",
    "    <h1> INF285 - Computación Científica</h1>\n",
    "    <h1> Tarea 2: La descomposición de valores singulares (SVD)</h1> \n",
    "    <h2> Anghelo Carvajal - 201473062-4</h2>\n",
    "    <h3> anghelo.carvajal.14@sansano.usm.cl </h3>\n",
    "</center>\n",
    "\n",
    "---"
   ]
  },
  {
   "cell_type": "code",
   "execution_count": null,
   "metadata": {
    "colab": {},
    "colab_type": "code",
    "id": "wN-YoRH-57Ag"
   },
   "outputs": [],
   "source": [
    "from PIL import Image\n",
    "import numpy as np\n",
    "from sklearn.decomposition import PCA\n",
    "import matplotlib.pyplot as plt\n",
    "from ipywidgets import interact, IntSlider\n",
    "# if not instaled: pip install networkx\n",
    "import networkx as nx"
   ]
  },
  {
   "cell_type": "markdown",
   "metadata": {},
   "source": [
    "### Pregunta 1"
   ]
  },
  {
   "cell_type": "markdown",
   "metadata": {},
   "source": [
    "a) Dado un dataset de $m$ imágenes y utilizando la _Descomposición en Valores Singulares_, explique Matemáticamente cómo podrá obtener los vectores principales y la matriz $P$ de proyección de imágenes sobre el espacio de caras. \n",
    "El documento PDF adjunto a esta tarea podría resultar de utilidad. \n"
   ]
  },
  {
   "cell_type": "markdown",
   "metadata": {},
   "source": [
    "b) Para un dataset de $m$ imágenes, obtenga los vectores principales del espacio de caras, utilizando $k$ componentes principales. Para ello utilice la función `numpy.linalg.svd`. La función solictada es la siguiente:\n",
    "\n",
    "```python\n",
    "'''\n",
    "Input:\n",
    "m - (integer) size of dataset of images\n",
    "k - (integer) number of components used for PCA\n",
    "Output: V - (m x k matrix) principal components\n",
    "'''\n",
    "def svd_pca_components(m, k):\n",
    "    V = np.full((m,k),np.nan)\n",
    "    ...\n",
    "    return V\n",
    "```\n",
    "\n",
    "Para esta función utilice el dataset _sample_, provisto en la tarea de manera que $m$ sea menor o igual a la cantidad total de imágenes del dataset. \n"
   ]
  },
  {
   "cell_type": "code",
   "execution_count": null,
   "metadata": {
    "scrolled": false
   },
   "outputs": [],
   "source": [
    "def svd_pca_components(m, k):\n",
    "    assert m <= 10 and k <= m\n",
    "    \n",
    "    # Referencia: Tarea 2 - CC 2019-1\n",
    "    image_list = list()\n",
    "    for i in range(1,m+1):\n",
    "        img = Image.open(\"sample/\"+str(i)+\".pgm\")\n",
    "\n",
    "        data = img.getdata()\n",
    "        data = np.asarray(data)\n",
    "        image_list.append(data)\n",
    "    \n",
    "    \n",
    "    image_list = np.asarray(image_list)\n",
    "\n",
    "    mean = image_list.mean(axis=0)\n",
    "    data = image_list-mean[None,:]\n",
    "    data=data/255 \n",
    "    # Fin de referencia\n",
    "    \n",
    "    _, _, V = np.linalg.svd(data, full_matrices=False)\n",
    "    V = V.transpose()\n",
    "    return np.array(   [i[:k] for i in V]    ).transpose()"
   ]
  },
  {
   "cell_type": "markdown",
   "metadata": {},
   "source": [
    "### Pregunta 2"
   ]
  },
  {
   "cell_type": "markdown",
   "metadata": {},
   "source": [
    "Utilizando SVD, es posible realizar un reconocimento de imágenes para saber la identidad de una persona, o además para saber si existe alguna _similitud_ entre personas (en realidad, entre fotos de personas). Considere $\\text{d}(\\cdot,\\cdot)$ una métrica para determinar la similitud entre dos sub-espacios vectoriales, $V_i$ y $V_j$,\n",
    "\n",
    "$$\n",
    "\\text{d}(V_i,V_j) = \\ \\sum_{p=1}^k \\min_{\\pm} \\|\\mathbf{v}_p^{(i)}- \\pm \\mathbf{v}_p^{(j)}\\|_2,\n",
    "$$\n",
    "\n",
    "donde $V_i=\\langle \\mathbf{v}_1^{(i)}, \\mathbf{v}_2^{(i)},\\dots, \\mathbf{v}_k^{(i)}\\rangle$ \n",
    "y $V_j=\\langle \\mathbf{v}_1^{(j)}, \\mathbf{v}_2^{(j)},\\dots, \\mathbf{v}_k^{(j)}\\rangle$ \n",
    "son los vectores principales de los sub-espacios $V_i$ y $V_j$, respectivamente.\n",
    "Además considere que la notación $\\min_{\\pm}$ significa que usted debe asegurarse de obtener el menor valor entre $\\|\\mathbf{v}_p^{(i)}-\\mathbf{v}_p^{(j)}\\|_2$ y $\\|\\mathbf{v}_p^{(i)}+\\mathbf{v}_p^{(j)}\\|_2$ dado que los vectores principales pueden venir o no multiplicados por $-1$, por lo tanto debe asegurarse que debe compararlos correctamente. Esto debe hacerse para cada sub-índice $p$ independientemente"
   ]
  },
  {
   "cell_type": "markdown",
   "metadata": {},
   "source": [
    "a) Considere el dataset orl\\_faces que se compone de $m = 400$ imágenes, el cual se encuentra separado en grupos de $S = 10$ imágenes que corresponden una misma persona. En otras palabras, el dataset contiene 10 imágenes de 40 personas distintas.\n",
    "\n",
    "Desarrolle un algoritmo que dada la métrica $\\text{d}(\\cdot,\\cdot)$ determine las 2 personas más parecidas y las 2 personas menos parecida de la base de datos entregada.\n",
    "```python\n",
    "'''\n",
    "Input:\n",
    "nombredataset - (string) name of data set\n",
    "k - (integer) number of components used for PCA\n",
    "flag - (integer) if flag==0, return most similar, if flag==1, return most disimilar, otherwise return -1,-1.\n",
    "Output: \n",
    "ID1 - (integer) id of first person\n",
    "ID2 - (integer) id of first person\n",
    "'''\n",
    "def find_people(nombredataset, k, flag=0):\n",
    "    ID1 = -1\n",
    "    ID2 = -1\n",
    "    \n",
    "    ...\n",
    "    return ID1, ID2\n",
    "```\n",
    "Para esta función, recuerde utilizar el dataset orl\\_faces, provisto en la tarea."
   ]
  },
  {
   "cell_type": "code",
   "execution_count": null,
   "metadata": {},
   "outputs": [],
   "source": [
    "def d_aux(vector):\n",
    "    return np.linalg.norm(vector)\n",
    "\n",
    "def d(V_i, V_j):\n",
    "    suma = 0\n",
    "    for i in range(len(V_i)):\n",
    "        suma += min(d_aux(V_i[i] - V_j[i]), d_aux(V_i[i] + V_j[i]))\n",
    "    return suma\n",
    "\n",
    "def find_people(nombredataset, k, flag=0):\n",
    "    if flag > 1 or flag < 0:\n",
    "        return -1, -1\n",
    "    ID1 = -1\n",
    "    ID2 = -1\n",
    "    \n",
    "    V_list = []\n",
    "\n",
    "    for i in range(1,41):\n",
    "        image_list = list()\n",
    "        for j in range(1, 11):\n",
    "            img = Image.open(nombredataset+\"/s\"+str(i)+\"/\"+str(j)+\".pgm\")\n",
    "\n",
    "            data = img.getdata()\n",
    "            data = np.asarray(data)\n",
    "            image_list.append(data)\n",
    "\n",
    "        image_list = np.asarray(image_list)\n",
    "        mean = image_list.mean(axis=0)\n",
    "        data = image_list-mean[None,:]\n",
    "        data=data/255 \n",
    "        _, _, V = np.linalg.svd(data, full_matrices=False)\n",
    "        V = V.transpose()\n",
    "        V_list.append(np.array([i[:k] for i in V]).transpose())\n",
    "        \n",
    "        \n",
    "    minimo = float(\"inf\")\n",
    "    maximo = -float(\"inf\")\n",
    "    for i in range(len(V_list)):\n",
    "        for j in range(len(V_list)):\n",
    "            if i != j:\n",
    "                suma = d(V_list[i], V_list[j])\n",
    "                if suma < minimo:\n",
    "                    minimo = suma\n",
    "                    ID1 = i\n",
    "                    ID2 = j\n",
    "                if suma > maximo:\n",
    "                    maximo = suma\n",
    "                    ID1_max = i\n",
    "                    ID2_max = j\n",
    "    if flag == 0:\n",
    "        return ID1, ID2\n",
    "    else:\n",
    "        return ID1_max, ID2_max\n"
   ]
  },
  {
   "cell_type": "markdown",
   "metadata": {},
   "source": [
    "b) Construya un widget con la función anterior, el cual debe contener varios valores de $k$ y el input `flag`. El resultado gráfico debe mostrar la primera imagen de las personas seleccionadas. ¿Qué puede decir al utilizar distintos valores para $k$\n",
    "\n",
    "Al usar mayores valores de $k$ teoricamente estamos usando mayor cantidad de componentes principales, por lo que nuestras comparaciones son cada vez mejores, pero requieren de mas memoria y tiempo de ejecucion."
   ]
  },
  {
   "cell_type": "code",
   "execution_count": null,
   "metadata": {},
   "outputs": [],
   "source": [
    "def find_people_plot(k, flag = 0):\n",
    "    ID1, ID2 = find_people(\"orl_faces\", k, flag=0)\n",
    "    print(ID1+1, ID2+1, k, flag)\n",
    "    img1 = Image.open(\"orl_faces/s\"+str(ID1+1)+\"/1.pgm\")\n",
    "    data1 = img1.getdata()\n",
    "    data1 = np.asarray(data1)\n",
    "    \n",
    "    plt.figure(figsize=(10,5))\n",
    "\n",
    "    plt.subplot(132)\n",
    "    plt.title(\"ID1\")\n",
    "    ni = np.reshape(data1,(112,92))\n",
    "    plt.imshow(ni,cmap='gray')\n",
    "    \n",
    "    img2 = Image.open(\"orl_faces/s\"+str(ID2+1)+\"/1.pgm\")\n",
    "    data2 = img2.getdata()\n",
    "    data2 = np.asarray(data2)\n",
    "\n",
    "    plt.subplot(133)\n",
    "    plt.title(\"ID2\")\n",
    "    ni = np.reshape(data2,(112,92))\n",
    "    plt.imshow(ni,cmap='gray')\n",
    "\n",
    "    plt.show()\n",
    "\n",
    "interact(find_people_plot,k=IntSlider(min=1,max=40,step=1,value=3),nombredataset=[0,1])"
   ]
  },
  {
   "cell_type": "markdown",
   "metadata": {},
   "source": [
    "### Pregunta 3:"
   ]
  },
  {
   "cell_type": "markdown",
   "metadata": {},
   "source": [
    "Utilizando la métrica definida en la pregunta anterior, podemos calcular la distancia entre todas las caras disponibles en un *dataset* de imágenes."
   ]
  },
  {
   "cell_type": "markdown",
   "metadata": {},
   "source": [
    "a) Considere la matriz $\\widehat{M}^{(k)}$, la cual consiste en la matriz de distancia entre todas las caras disponibles en el *dataset* utilizando $k$ componentes principales.\n",
    "Para construir una matriz de adyacencia y visualizar la cercanía de las caras mediante un grafo, introduciremos un parámetro de cercanía, denotado por $\\delta$, el cual nos permitirá separar las caras que son \"cercanas\" de aquellas que están \"lejanas\". Utilizando este parámetro $\\delta$, podemos definir la matriz de adyacencia $A^{(k)}$ como:\n",
    "\n",
    "$$\n",
    "A^{(k)}_{i,j} =\n",
    "\\begin{cases}\n",
    "    \\widehat{M}^{(k)}_{i,j},\\quad &\\text{si } \\text{d}(V_i,V_j) \\leq \\delta, \\\\\n",
    "    0, \\quad &\\text{en otro caso}.\n",
    "\\end{cases}\n",
    "$$\n",
    "\n",
    "Implemente la función `build_adjacency_matrix`, respetando el formato adjunto, para que retorne la matriz $A^{(k)}$ definida anteriormente. Considere que esta función recibe como parámetro: el nombre del dataset (string), el número $k$ de componentes principales a utilizar y el valor de $\\delta$. Considere como datasets para esta pregunta: sample y orl_faces. <span style=\"color:blue; font-size: 2em\"> </span> "
   ]
  },
  {
   "cell_type": "code",
   "execution_count": null,
   "metadata": {},
   "outputs": [],
   "source": [
    "'''\n",
    "Input:\n",
    "nombredataset - (string) name of data set 'sample' or 'orl_faces'\n",
    "k - (integer) number of components used for PCA\n",
    "delta - (double) threshold for distance matrix\n",
    "Output: \n",
    "A - (n x n matrix) adjacency matrix\n",
    "'''\n",
    "\n",
    "def build_adjacency_matrix(nombredataset, k, delta):\n",
    "    #changing values for each dataset\n",
    "    if nombredataset == \"sample\":\n",
    "        n = 10\n",
    "    elif nombredataset == \"orl_faces\":\n",
    "        n = 40\n",
    "    else:\n",
    "        n = 0\n",
    "    A = np.random.randint(2, size=(n,n))    \n",
    "    \n",
    "    return A"
   ]
  },
  {
   "cell_type": "markdown",
   "metadata": {},
   "source": [
    "b) Utilizando la función `show_graph`, disponible abajo de este enunciado, visualice el efecto de $k$ y $\\delta$ en las caras encontradas. A partir de estos resultados, concluya si la noción de cercanía del método coincide con la percepción humana de \"caras parecidas\".\n"
   ]
  },
  {
   "cell_type": "code",
   "execution_count": null,
   "metadata": {
    "scrolled": false
   },
   "outputs": [],
   "source": [
    "def show_graph(k, delta, id1=0, id2=1, nombredataset=\"sample\"):\n",
    "    \n",
    "    #changing values for each dataset\n",
    "    if nombredataset == \"sample\":\n",
    "        subjects = 10\n",
    "    elif nombredataset == \"orl_faces\":\n",
    "        subjects = 40\n",
    "    else:\n",
    "        subjects = 0\n",
    "    \n",
    "    # reading images from dataset\n",
    "    image_list = list()\n",
    "    for i in range(1,subjects+1):\n",
    "        if nombredataset == \"sample\":\n",
    "            img = Image.open(nombredataset+\"/\"+str(i)+\".pgm\")\n",
    "        elif nombredataset == \"orl_faces\":\n",
    "            img = Image.open(nombredataset+\"/s\"+str(i)+\"/1.pgm\")\n",
    "            \n",
    "        data = img.getdata()\n",
    "        data = np.asarray(data)\n",
    "        image_list.append(data)\n",
    "    \n",
    "    #only works if there are subjects\n",
    "    if subjects > 0:\n",
    "        #array conversion\n",
    "        image_list = np.asarray(image_list)\n",
    "\n",
    "        A = build_adjacency_matrix(nombredataset, k, delta)\n",
    "        G = nx.from_numpy_matrix(A)\n",
    "\n",
    "        plt.figure(figsize=(10,5))\n",
    "\n",
    "        plt.subplot(131)\n",
    "        colors = ['cyan'] * A.shape[0]\n",
    "        colors[id1] = 'b'\n",
    "        colors[id2] = 'r'\n",
    "        nx.draw(G, with_labels=True, font_weight='bold', node_color=colors)\n",
    "\n",
    "        plt.subplot(132)\n",
    "        plt.title(\"Blue node\")\n",
    "        ni = np.reshape(image_list[id1,:],(112,92))\n",
    "        plt.imshow(ni,cmap='gray')\n",
    "\n",
    "        plt.subplot(133)\n",
    "        plt.title(\"Red node\")\n",
    "        ni = np.reshape(image_list[id2,:],(112,92))\n",
    "        plt.imshow(ni,cmap='gray')\n",
    "\n",
    "        plt.show()\n",
    "\n",
    "interact(show_graph,k=IntSlider(min=1,max=40,step=1,value=3),delta=(0,100,0.1),id1=(0,39,1),id2=(0,39,1),nombredataset=['sample','orl_faces'], continuous_update=False)"
   ]
  },
  {
   "cell_type": "markdown",
   "metadata": {},
   "source": [
    "## Referencias\n",
    "\n",
    "- https://docs.scipy.org/doc/numpy/reference/generated/numpy.linalg.svd.html\n",
    "- Para la lectura de las imagenes y almacenamiento como matrices en memoria, se utilizo el codigo provisto en la presente tarea.\n",
    "- https://docs.scipy.org/doc/numpy/reference/generated/numpy.linalg.norm.html"
   ]
  }
 ],
 "metadata": {
  "colab": {
   "collapsed_sections": [],
   "name": "Propuesta Tarea 2.ipynb",
   "provenance": [],
   "toc_visible": true,
   "version": "0.3.2"
  },
  "kernelspec": {
   "display_name": "Python 3",
   "language": "python",
   "name": "python3"
  },
  "language_info": {
   "codemirror_mode": {
    "name": "ipython",
    "version": 3
   },
   "file_extension": ".py",
   "mimetype": "text/x-python",
   "name": "python",
   "nbconvert_exporter": "python",
   "pygments_lexer": "ipython3",
   "version": "3.5.2"
  }
 },
 "nbformat": 4,
 "nbformat_minor": 1
}
