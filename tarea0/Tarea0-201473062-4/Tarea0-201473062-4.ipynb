{
 "cells": [
  {
   "cell_type": "markdown",
   "metadata": {},
   "source": [
    "<center>\n",
    "    <h1>INF285 - Computación Científica</h1>\n",
    "    <h2>Tarea 0: <i>Hands-on Jupyter Notebook</i></h2>\n",
    "    <h3>Anghelo Carvajal <br> 201473062-4 <br> anghelo.carvajal.14@sansano.usm.cl</h3>\n",
    "</center>\n"
   ]
  },
  {
   "cell_type": "code",
   "execution_count": 1,
   "metadata": {},
   "outputs": [],
   "source": [
    "import numpy as np\n",
    "from numpy import pi as π\n",
    "from numpy import e\n",
    "from scipy.sparse import linalg as sparse\n",
    "from scipy import linalg\n",
    "import matplotlib.pyplot as plt\n",
    "import ipywidgets as ipyw"
   ]
  },
  {
   "cell_type": "markdown",
   "metadata": {},
   "source": [
    "## Pregunta 1.- Valores y vectores propios"
   ]
  },
  {
   "cell_type": "markdown",
   "metadata": {},
   "source": [
    "### 1.A Construya una función en python que obtenga numéricamente el $k$-ésimo valor propio y vector propio de $T_n$, donde se considera que los valores propios fueron ordenados de menor a mayor.\n",
    "\n",
    "Primero que nada, construimos 2 funciones que nos ayudaran, uno que construya la matriz $T_n$ (`matrix_t_n(n)`), y otra que calcule los valores propios $\\lambda_k$ (`eigen_value(n, k)`) en base a la ecuacion entregada"
   ]
  },
  {
   "cell_type": "code",
   "execution_count": 2,
   "metadata": {},
   "outputs": [],
   "source": [
    "def matrix_t_n(n):\n",
    "    matrix = np.zeros((n, n), dtype=np.float64)\n",
    "    for x in range(len(matrix)):\n",
    "        for y in range(len(matrix[0])): # No era necesario el segundo for, pero ya lo hice...\n",
    "            if x == y:\n",
    "                matrix[x][y] = 2\n",
    "            if x + 1 == y or x - 1 == y:\n",
    "                matrix[x][y] = -1\n",
    "    return matrix\n",
    "\n",
    "def eigen_value(n, k):\n",
    "    assert n >= 2\n",
    "    assert 1 <= k and k <= n\n",
    "    return 2 - 2*np.cos((k-1)*π/(n+1))\n"
   ]
  },
  {
   "cell_type": "code",
   "execution_count": 3,
   "metadata": {},
   "outputs": [],
   "source": [
    "'''\n",
    "Input: \n",
    "n - (integer) Dimension of the matrix T_n, n>=2.\n",
    "k - (integer) 1<=k<=n.\n",
    "\n",
    "Output:\n",
    "lambda_k - (double) k-th eigenvalue\n",
    "v_k - (numpy array) k-th eigenvector\n",
    "'''\n",
    "def eigs_T_n(n, k):\n",
    "    lambda_k = eigen_value(n, k)\n",
    "    matrix = matrix_t_n(n)\n",
    "    v_k = sparse.eigs(matrix, k=1, sigma=lambda_k)[1]\n",
    "    return [lambda_k, v_k]"
   ]
  },
  {
   "cell_type": "markdown",
   "metadata": {},
   "source": [
    "### 1.2 Realice un plot de ```eigs_T_n(n, k)``` considerando $k=4$. ¿Que observa?\n",
    "\n",
    "Simplemente se usan las funciones `scatter()` e `interact()` de `matplotlib` y `ipywidgets` respectivamente. "
   ]
  },
  {
   "cell_type": "code",
   "execution_count": 4,
   "metadata": {},
   "outputs": [
    {
     "data": {
      "application/vnd.jupyter.widget-view+json": {
       "model_id": "42609987a3a9416baf26e6fc121ba741",
       "version_major": 2,
       "version_minor": 0
      },
      "text/plain": [
       "interactive(children=(IntSlider(value=505, description='n', max=1000, min=10), Output()), _dom_classes=('widge…"
      ]
     },
     "metadata": {},
     "output_type": "display_data"
    }
   ],
   "source": [
    "def plot_eigs_T_n(n, k):\n",
    "    plt.scatter(np.arange(n), eigs_T_n(n, k)[1])\n",
    "    plt.show()\n",
    "\n",
    "ipyw.interact(plot_eigs_T_n, n=(10, 1000),k=ipyw.fixed(4));"
   ]
  },
  {
   "cell_type": "markdown",
   "metadata": {},
   "source": [
    "Observo que al variar el valor de $n$, la grafica va tendiendo a parecerse a una funcion sinusoidal."
   ]
  },
  {
   "cell_type": "markdown",
   "metadata": {},
   "source": [
    "## Pregunta 2.- A matrix equation\n",
    "\n",
    "Considere la siguiente ecuación matricial:\n",
    "\\begin{equation*}\n",
    "\\frac{(n-1)^2}{4}(T_n\\,U_n+U_n\\,T_n)+9\\,U_n=\\,F_n\\in \\mathbb{R}^{n\\times n}\n",
    "\\end{equation*}"
   ]
  },
  {
   "cell_type": "markdown",
   "metadata": {},
   "source": [
    "### 2.1 Construya una función en python que obtenga $U_n$ dado $n$\n",
    "\n",
    "Primero se construye una funcion que sea capaz de generar la matriz $F_n$ (`matrix_f_n()`)."
   ]
  },
  {
   "cell_type": "code",
   "execution_count": 5,
   "metadata": {},
   "outputs": [],
   "source": [
    "def x_j(n, j):\n",
    "    return -1+(j-1)*(2/(n-1))\n",
    "\n",
    "def y_i(n, i):\n",
    "    return -1+(i-1)*(2/(n-1))\n",
    "                     \n",
    "def matrix_f_n(n):\n",
    "    matrix = np.zeros((n, n), dtype=np.float64)\n",
    "    for i in range(0, n):\n",
    "        for j in range(0, n):\n",
    "            matrix[i][j] = e**(-10*((y_i(n, i+1)-1)**2+(x_j(n, j+1)-1/2)))\n",
    "    return matrix\n"
   ]
  },
  {
   "cell_type": "markdown",
   "metadata": {},
   "source": [
    "Ahora necesitamos construir la funcion encargada de encontrar la matriz $U_n$.\n",
    "\n",
    "Como la ecuacion pedida se parece a una ecuacion de Sylverster ($AX + XB = C$), desarrollamos un poco el algebra, con el objetivo de acercarnos a eso:\n",
    "\\begin{align*}\n",
    "\\frac{(n-1)^2}{4}(T_n U_n + U_n T_n)+9 U_n &= F_n \\\\\n",
    "\\frac{(n-1)^2}{4} T_n U_n + \\frac{(n-1)^2}{4} U_n T_n + 9 U_n &= F_n \\\\\n",
    "\\frac{(n-1)^2}{4} T_n U_n + U_n\\left(\\frac{(n-1)^2}{4} T_n + 9 I_n\\right) &= F_n\n",
    "\\end{align*}\n",
    "\n",
    "De la ultima ecuacion, podemos ver claramente que es la ecuacion de Sylverster, donde:\n",
    "\\begin{align*}\n",
    "A &= \\frac{(n-1)^2}{4} T_n \\\\\n",
    "B &= \\left(\\frac{(n-1)^2}{4} T_n + 9 I_n\\right) \\\\\n",
    "C &= F_n \\\\\n",
    "X &= U_n \\\\\n",
    "\\end{align*}\n",
    "\n",
    "Sabiendo lo anterior, para poder obtener la matriz $U_n$ usaremos la funcion `solve_sylvester()`."
   ]
  },
  {
   "cell_type": "code",
   "execution_count": 6,
   "metadata": {},
   "outputs": [],
   "source": [
    "'''\n",
    "Input: \n",
    "n - (integer) Dimension of the problem, n>=2.\n",
    "Output:\n",
    "U_n - (2D-array numpy array) The solution of the problem.\n",
    "'''\n",
    "def find_U_n(n):\n",
    "    assert n >= 2\n",
    "    t_n = matrix_t_n(n)\n",
    "    f_n = matrix_f_n(n)\n",
    "    A = (((n-1)**2)/4)*t_n\n",
    "    B = ((((n-1)**2)/4)*t_n + 9 * np.identity(n))\n",
    "    U_n = linalg.solve_sylvester(A, B, f_n)\n",
    "    return U_n\n"
   ]
  },
  {
   "cell_type": "markdown",
   "metadata": {},
   "source": [
    "### 2.2 Realice un heatmap de $U_n(n)$ considerando un widget para variar $n\\in\\{10,\\dots,50\\}$. ¿Qué observa?"
   ]
  },
  {
   "cell_type": "code",
   "execution_count": 7,
   "metadata": {},
   "outputs": [
    {
     "data": {
      "application/vnd.jupyter.widget-view+json": {
       "model_id": "c59244acdc75491c9f9f4fb112554654",
       "version_major": 2,
       "version_minor": 0
      },
      "text/plain": [
       "interactive(children=(IntSlider(value=30, description='n', max=50, min=10), Output()), _dom_classes=('widget-i…"
      ]
     },
     "metadata": {},
     "output_type": "display_data"
    },
    {
     "data": {
      "text/plain": [
       "<function __main__.heatmap_u_n(n)>"
      ]
     },
     "execution_count": 7,
     "metadata": {},
     "output_type": "execute_result"
    }
   ],
   "source": [
    "def heatmap_u_n(n):\n",
    "    plt.imshow(find_U_n(n), cmap='hot', interpolation='nearest')\n",
    "    plt.show()\n",
    "    return\n",
    "\n",
    "ipyw.interact(heatmap_u_n, n=(10, 50))"
   ]
  },
  {
   "cell_type": "markdown",
   "metadata": {},
   "source": [
    "Observo que el heatmap se concentra en la esquina inferior izquierda. Ademas, al tener $n$ mas grandes, el grafico tiende a ser mas detallado y fino, al contrario que con los $n$ mas pequeños."
   ]
  },
  {
   "cell_type": "markdown",
   "metadata": {},
   "source": [
    "## Referencias\n",
    "\n",
    " * [np.zeros](https://docs.scipy.org/doc/numpy/reference/generated/numpy.zeros.html)\n",
    " * [sparse.eigs](https://docs.scipy.org/doc/scipy/reference/generated/scipy.sparse.linalg.eigs.html)\n",
    " * [Plotting a list of (x, y) coordinates in python matplotlib](https://stackoverflow.com/questions/21519203/plotting-a-list-of-x-y-coordinates-in-python-matplotlib)\n",
    " * [linalg.solve_sylvester](https://docs.scipy.org/doc/scipy-0.15.1/reference/generated/scipy.linalg.solve_sylvester.html)\n",
    " * [Plotting a 2D heatmap with Matplotlib](https://stackoverflow.com/questions/33282368/plotting-a-2d-heatmap-with-matplotlib)\n",
    " * [interact](https://ipywidgets.readthedocs.io/en/stable/examples/Using%20Interact.html)"
   ]
  }
 ],
 "metadata": {
  "kernelspec": {
   "display_name": "Python 3",
   "language": "python",
   "name": "python3"
  },
  "language_info": {
   "codemirror_mode": {
    "name": "ipython",
    "version": 3
   },
   "file_extension": ".py",
   "mimetype": "text/x-python",
   "name": "python",
   "nbconvert_exporter": "python",
   "pygments_lexer": "ipython3",
   "version": "3.5.2"
  }
 },
 "nbformat": 4,
 "nbformat_minor": 2
}
