{
 "cells": [
  {
   "cell_type": "markdown",
   "metadata": {},
   "source": [
    "<img src=\"escudo_utfsm.gif\" style=\"float:right;height:100px\">\n",
    "<img src=\"IsotipoDIisocolor.png\" style=\"float:left;height:100px\">\n",
    "<center>\n",
    "    <h1> INF285 - Computación Científica</h1>\n",
    "    <h1> Tarea 3: Interpolación</h1> \n",
    "    <h2> Anghelo Carvajal - 201473062-4</h2>\n",
    "    <h3> anghelo.carvajal.14@sansano.usm.cl </h3>\n",
    "</center>\n",
    "\n",
    "---"
   ]
  },
  {
   "cell_type": "markdown",
   "metadata": {},
   "source": [
    "#### Librerías"
   ]
  },
  {
   "cell_type": "code",
   "execution_count": 1,
   "metadata": {
    "colab": {},
    "colab_type": "code",
    "id": "VirQAbpPC_Hf"
   },
   "outputs": [],
   "source": [
    "from __future__ import print_function\n",
    "import numpy as np\n",
    "#pip3 install imutils\n",
    "import imutils\n",
    "#pip3 install opencv-python\n",
    "import cv2 \n",
    "import matplotlib.pyplot as plt\n",
    "import scipy.interpolate as scp\n",
    "import base64\n",
    "from IPython.display import HTML, clear_output\n",
    "\n",
    "from ipywidgets import interact, interactive, fixed, interact_manual\n",
    "import ipywidgets as widgets\n",
    "\n",
    "import time"
   ]
  },
  {
   "cell_type": "markdown",
   "metadata": {},
   "source": [
    "---"
   ]
  },
  {
   "cell_type": "markdown",
   "metadata": {},
   "source": [
    "Las siguientes funciones se encargan de leer el video y cargarlo como una matriz, y leer la matriz y guardarla como video nuevamente.\n",
    "\n",
    "Este codigo fue sacado de el enunciado de esta misma tarea."
   ]
  },
  {
   "cell_type": "code",
   "execution_count": 3,
   "metadata": {},
   "outputs": [],
   "source": [
    "'''\n",
    "Carga de video a matriz de [height, width, fps*seconds], dejando en escala de grises cada frame, \n",
    "reduciendo su dimensionalidad.\n",
    "\n",
    "Input:\n",
    "    src_name: nombre (o path) de video de origen\n",
    "    seconds: cantidad de tiempo en segundos a considerar del video de origen.\n",
    "\n",
    "Output: \n",
    "    frames: matriz de shape [height, width, fps*seconds], la cual contiene los frames del video original\n",
    "    number_fps: frames por segundo del video original\n",
    "'''\n",
    "def video_to_matrix(src_name, seconds):\n",
    "    # Se lee el video\n",
    "    stream = cv2.VideoCapture(src_name)\n",
    "    \n",
    "    # Dimension del video y fps\n",
    "    height = round(stream.get(cv2.CAP_PROP_FRAME_HEIGHT))\n",
    "    width = round(stream.get(cv2.CAP_PROP_FRAME_WIDTH))\n",
    "    number_fps = stream.get(cv2.CAP_PROP_FPS)\n",
    "\n",
    "    frames = np.zeros((height, width, round(number_fps)*seconds))\n",
    "\n",
    "    for i in range(round(number_fps)*seconds):\n",
    "        # Leer el video hasta que no hayan más datos\n",
    "        (grabbed, frame) = stream.read()\n",
    "        if not grabbed:\n",
    "            break\n",
    "            \n",
    "        # Leer el frame y cambiarlo a escala de grises\n",
    "        frame = cv2.resize(frame, (width, height)) \n",
    "        frame = cv2.cvtColor(frame, cv2.COLOR_BGR2GRAY)\n",
    "        frames[:,:,i] = frame\n",
    "        \n",
    "    return frames\n",
    "\n",
    "'''\n",
    "Guarda una matriz de [height, width, fps*seconds] de escala de grises a un video.\n",
    "\n",
    "Input:\n",
    "    filename: nombre del archivo final (debe tener extension de video, como '.mp4')\n",
    "    video_matrix: la matriz en cuestion\n",
    "    framerate: El framerate del video a generar\n",
    "\n",
    "Output: \n",
    "    \"Done\"\n",
    "'''\n",
    "def matrix_to_video(filename, video_matrix, framerate):\n",
    "    dimensions = (video_matrix.shape[1], video_matrix.shape[0])\n",
    "    out = cv2.VideoWriter(filename, cv2.VideoWriter_fourcc('m','p','4','v'), framerate, dimensions)\n",
    "   \n",
    "    for i in range(video_matrix.shape[2]):\n",
    "        frame = np.uint8(video_matrix[:,:,i])\n",
    "        out.write(np.dstack([frame, frame, frame]))\n",
    "    \n",
    "    out.release()\n",
    "    cv2.destroyAllWindows() \n",
    "    return \"Done\"\n"
   ]
  },
  {
   "cell_type": "markdown",
   "metadata": {},
   "source": [
    "## Sección 1. Testing de métodos de interpolación\n",
    "\n",
    "Primero que nada, se crean las funciones interpoladoras, creadas en base, en su mayoria, a las ya existentes en scipy.\n",
    "\n",
    "Mas especificamente, se usaron:\n",
    "- [scipy.interpolate.CubicSpline](https://docs.scipy.org/doc/scipy-0.18.1/reference/generated/scipy.interpolate.CubicSpline.html)\n",
    "- [scipy.interpolate.lagrange](https://docs.scipy.org/doc/scipy/reference/generated/scipy.interpolate.lagrange.html)\n",
    "- [scipy.interpolate.BarycentricInterpolator](https://docs.scipy.org/doc/scipy/reference/generated/scipy.interpolate.BarycentricInterpolator.html)\n",
    "\n",
    "linear_spline fue construida en base a los conocimientos obtenidos del curso.\n"
   ]
  },
  {
   "cell_type": "code",
   "execution_count": 4,
   "metadata": {
    "scrolled": true
   },
   "outputs": [],
   "source": [
    "def cubic_spline_interpolator(old_xs, old_ys, new_xs):\n",
    "    # https://docs.scipy.org/doc/scipy-0.18.1/reference/generated/scipy.interpolate.CubicSpline.html\n",
    "    aux_interpolator = scp.CubicSpline(old_xs, old_ys, bc_type=\"not-a-knot\")\n",
    "    return aux_interpolator(new_xs)\n",
    "\n",
    "def linear_spline_interpolator(old_xs, old_ys, new_xs):\n",
    "    def aux_interpolator(x):\n",
    "        for i in range(len(old_xs) - 1):\n",
    "            if old_xs[i] <= x and x <= old_xs[i+1]:\n",
    "                x_0, x_1 = float(old_xs[i]), float(old_xs[i+1])\n",
    "                y_0, y_1 = float(old_ys[i]), float(old_ys[i+1])\n",
    "                \n",
    "                m = (y_1 - y_0) / (x_1 - x_0)\n",
    "                y = m*x - m*x_0 + y_0\n",
    "                return y\n",
    "        return 0\n",
    "\n",
    "    new_y = np.zeros(len(new_xs))\n",
    "    for i in range(len(new_xs)):\n",
    "        new_y[i] = aux_interpolator(new_xs[i])\n",
    "    return new_y\n",
    "\n",
    "def lagrange_interpolator(old_xs, old_ys, new_xs):\n",
    "    # https://docs.scipy.org/doc/scipy/reference/generated/scipy.interpolate.lagrange.html\n",
    "    aux_interpolator = scp.lagrange(old_xs, old_ys)\n",
    "    return aux_interpolator(new_xs)\n",
    "\n",
    "def baricentrica_interpolator(old_xs, old_ys, new_xs):\n",
    "    # https://docs.scipy.org/doc/scipy/reference/generated/scipy.interpolate.BarycentricInterpolator.html\n",
    "    aux_interpolator = scp.BarycentricInterpolator(old_xs, old_ys)\n",
    "    return aux_interpolator(new_xs)\n",
    "\n",
    "def chebyshev(i, n):\n",
    "    assert 1 <= i and i <= n\n",
    "    a, b = 1, n\n",
    "    return ((b+a)/2) + ((b-a)/2)*np.cos((2*i-1)*np.pi/(2*n))"
   ]
  },
  {
   "cell_type": "markdown",
   "metadata": {},
   "source": [
    "1. Implemente la función _interpolate_\\__frames (frames, old_\\__fps, new_\\__fps, seconds, interpolator, points_\\__type)_. "
   ]
  },
  {
   "cell_type": "code",
   "execution_count": 5,
   "metadata": {},
   "outputs": [],
   "source": [
    "'''\n",
    "frames: array of frames (height x width x total_frames)\n",
    "old_fps: Number of fps of the original video\n",
    "new_fps: fps of output matrix \n",
    "seconds: seconds of video \n",
    "interpolator: Interpolator type\n",
    "points_type: Points distribution to use\n",
    "\n",
    "return: dst_frames (array of frames (height x width x dst_fps*seconds))\n",
    "'''\n",
    "def interpolate_frames(frames, old_fps, new_fps, seconds, interpolator, points_type):\n",
    "    interpolator_functions = {\"spline-cubica\": cubic_spline_interpolator, \n",
    "                              \"spline-lineal\": linear_spline_interpolator, \n",
    "                              \"lagrange\": lagrange_interpolator, \n",
    "                              \"baricentrica\": baricentrica_interpolator}\n",
    "    height = len(frames)\n",
    "    width = len(frames[0])\n",
    "\n",
    "    dst_frames = np.zeros((height, width, round(new_fps)*seconds))\n",
    "    \n",
    "    if \"cheb\" == points_type:\n",
    "        old_n = old_fps*seconds\n",
    "        nombers_old = np.arange(0+1, old_n+1)\n",
    "        old_x = np.zeros(old_n)\n",
    "        for i in nombers_old:\n",
    "            old_x[old_n-i] = chebyshev(i, old_n)\n",
    "\n",
    "        new_n = new_fps*seconds\n",
    "        nombers_new = np.arange(0+1, new_n+1)\n",
    "        new_x = np.zeros(new_n)\n",
    "        for i in nombers_new:\n",
    "            new_x[new_n-i] = chebyshev(i, new_n)\n",
    "\n",
    "    elif points_type == \"equi\":\n",
    "        # https://docs.scipy.org/doc/numpy/reference/generated/numpy.linspace.html\n",
    "        old_x = np.linspace(0, new_fps*seconds, old_fps*seconds)\n",
    "        new_x = np.linspace(0, new_fps*seconds, new_fps*seconds)\n",
    "    else:\n",
    "        return \"ERROR\"\n",
    "    \n",
    "    # https://docs.python.org/3/library/time.html#time.perf_counter\n",
    "    first_time = time.perf_counter()\n",
    "    lapso_time = first_time\n",
    "    inter_func = interpolator_functions[interpolator]\n",
    "    for i in range(height):\n",
    "        clear_output()\n",
    "        print(i,\"/\",height)\n",
    "        actual_time = time.perf_counter()\n",
    "        # Ponemos un tiempo limite a la interpolacion\n",
    "        if actual_time-first_time > 7*60:\n",
    "            return None\n",
    "        print(\"\\tTranscurrido total:\",actual_time-first_time,\"s\")\n",
    "        print(\"\\tTranscurrido lapso:\",actual_time-lapso_time,\"s\")\n",
    "        print(\"\\tRestante:\",(actual_time-lapso_time)*(height-i),\"s\")\n",
    "        lapso_time = actual_time\n",
    "        print()\n",
    "        for j in range(width):\n",
    "            old_y = frames[i][j][:len(old_x)]\n",
    "            dst_frames[i][j] = inter_func(old_x, old_y, new_x)\n",
    "\n",
    "    return dst_frames"
   ]
  },
  {
   "cell_type": "markdown",
   "metadata": {},
   "source": [
    "2. Mediante la función implementada anteriormente, aumentaremos los *framerates* de los videos disponibles. Para esto:\n",
    "    * Tomando como base el _video_\\__30fps.mp4_, genere un video de 60 fps.\n",
    "    * Tomando como base el _video_\\__15fps.mp4_, genere un video de 30 fps.\n",
    "    * Tomando como base el _video_\\__5fps.mp4_, genere un video de 15 fps.\n",
    "    * Tomando como base el _video_\\__5fps.mp4_, genere un video de 60 fps.\n",
    "\n",
    "    Para esto, utilize los 4 interpoladores generados y las distribuciones de puntos especificadas. Mida los tiempos de cómputos de cada método, con cada distribución de puntos.\n",
    "    \n",
    "Considerando esta informacion, se creo la funcion `interpolate_video`, la cual se encarga de tomar un video, interpolarlo y generar el video nuevo.\n",
    "\n",
    "Luego estan las 32 llamadas a esta funcion para generar todos los videos correspondientes."
   ]
  },
  {
   "cell_type": "code",
   "execution_count": 7,
   "metadata": {},
   "outputs": [],
   "source": [
    "def interpolate_video(nombre, old_fps, dst_fps, interpolador, puntos_type, seconds = 5):\n",
    "    matriz_de_video = video_to_matrix(\"video_\"+str(old_fps)+\"fps.mp4\", seconds)\n",
    "    matriz_interpolada = interpolate_frames(matriz_de_video, old_fps, dst_fps, seconds, interpolador, puntos_type)\n",
    "    if matriz_interpolada == None:\n",
    "        print(\"Tiempo excedido\")\n",
    "        return\n",
    "    print(nombre)\n",
    "    resultado = matrix_to_video(nombre, matriz_interpolada, dst_fps)\n",
    "    return resultado\n"
   ]
  },
  {
   "cell_type": "markdown",
   "metadata": {},
   "source": [
    "Spline-cubica"
   ]
  },
  {
   "cell_type": "code",
   "execution_count": 26,
   "metadata": {},
   "outputs": [
    {
     "name": "stdout",
     "output_type": "stream",
     "text": [
      "357 / 358\n",
      "\tTranscurrido total: 51.29638153199994 s\n",
      "\tTranscurrido lapso: 0.14177434899966102 s\n",
      "\tRestante: 0.14177434899966102 s\n",
      "\n",
      "30to60_spline-cubica_equi.mp4\n"
     ]
    },
    {
     "data": {
      "text/plain": [
       "'Done'"
      ]
     },
     "execution_count": 26,
     "metadata": {},
     "output_type": "execute_result"
    }
   ],
   "source": [
    "interpolador = \"spline-cubica\"\n",
    "old_fps = 30\n",
    "dst_fps = 60\n",
    "puntos = \"equi\"\n",
    "nombre = str(old_fps)+\"to\"+str(dst_fps)+\"_\"+interpolador+\"_\"+puntos+\".mp4\"\n",
    "print(nombre)\n",
    "interpolate_video(nombre, old_fps, dst_fps, interpolador, puntos)"
   ]
  },
  {
   "cell_type": "code",
   "execution_count": 28,
   "metadata": {},
   "outputs": [
    {
     "name": "stdout",
     "output_type": "stream",
     "text": [
      "357 / 358\n",
      "\tTranscurrido total: 50.50482717900013 s\n",
      "\tTranscurrido lapso: 0.14384160300005533 s\n",
      "\tRestante: 0.14384160300005533 s\n",
      "\n",
      "30to60_spline-cubica_cheb.mp4\n"
     ]
    },
    {
     "data": {
      "text/plain": [
       "'Done'"
      ]
     },
     "execution_count": 28,
     "metadata": {},
     "output_type": "execute_result"
    }
   ],
   "source": [
    "interpolador = \"spline-cubica\"\n",
    "old_fps = 30\n",
    "dst_fps = 60\n",
    "puntos = \"cheb\"\n",
    "nombre = str(old_fps)+\"to\"+str(dst_fps)+\"_\"+interpolador+\"_\"+puntos+\".mp4\"\n",
    "print(nombre)\n",
    "interpolate_video(nombre, old_fps, dst_fps, interpolador, puntos)"
   ]
  },
  {
   "cell_type": "code",
   "execution_count": 29,
   "metadata": {},
   "outputs": [
    {
     "name": "stdout",
     "output_type": "stream",
     "text": [
      "357 / 358\n",
      "\tTranscurrido total: 47.74824547699973 s\n",
      "\tTranscurrido lapso: 0.13287439699979586 s\n",
      "\tRestante: 0.13287439699979586 s\n",
      "\n",
      "15to30_spline-cubica_equi.mp4\n"
     ]
    },
    {
     "data": {
      "text/plain": [
       "'Done'"
      ]
     },
     "execution_count": 29,
     "metadata": {},
     "output_type": "execute_result"
    }
   ],
   "source": [
    "interpolador = \"spline-cubica\"\n",
    "old_fps = 15\n",
    "dst_fps = 30\n",
    "puntos = \"equi\"\n",
    "nombre = str(old_fps)+\"to\"+str(dst_fps)+\"_\"+interpolador+\"_\"+puntos+\".mp4\"\n",
    "print(nombre)\n",
    "interpolate_video(nombre, old_fps, dst_fps, interpolador, puntos)"
   ]
  },
  {
   "cell_type": "code",
   "execution_count": 30,
   "metadata": {},
   "outputs": [
    {
     "name": "stdout",
     "output_type": "stream",
     "text": [
      "357 / 358\n",
      "\tTranscurrido total: 47.69533963599997 s\n",
      "\tTranscurrido lapso: 0.1319870830002401 s\n",
      "\tRestante: 0.1319870830002401 s\n",
      "\n",
      "15to30_spline-cubica_cheb.mp4\n"
     ]
    },
    {
     "data": {
      "text/plain": [
       "'Done'"
      ]
     },
     "execution_count": 30,
     "metadata": {},
     "output_type": "execute_result"
    }
   ],
   "source": [
    "interpolador = \"spline-cubica\"\n",
    "old_fps = 15\n",
    "dst_fps = 30\n",
    "puntos = \"cheb\"\n",
    "nombre = str(old_fps)+\"to\"+str(dst_fps)+\"_\"+interpolador+\"_\"+puntos+\".mp4\"\n",
    "print(nombre)\n",
    "interpolate_video(nombre, old_fps, dst_fps, interpolador, puntos)"
   ]
  },
  {
   "cell_type": "code",
   "execution_count": 31,
   "metadata": {},
   "outputs": [
    {
     "name": "stdout",
     "output_type": "stream",
     "text": [
      "357 / 358\n",
      "\tTranscurrido total: 45.6527372139999 s\n",
      "\tTranscurrido lapso: 0.12506640699984928 s\n",
      "\tRestante: 0.12506640699984928 s\n",
      "\n",
      "5to15_spline-cubica_equi.mp4\n"
     ]
    },
    {
     "data": {
      "text/plain": [
       "'Done'"
      ]
     },
     "execution_count": 31,
     "metadata": {},
     "output_type": "execute_result"
    }
   ],
   "source": [
    "interpolador = \"spline-cubica\"\n",
    "old_fps = 5\n",
    "dst_fps = 15\n",
    "puntos = \"equi\"\n",
    "nombre = str(old_fps)+\"to\"+str(dst_fps)+\"_\"+interpolador+\"_\"+puntos+\".mp4\"\n",
    "print(nombre)\n",
    "interpolate_video(nombre, old_fps, dst_fps, interpolador, puntos)"
   ]
  },
  {
   "cell_type": "code",
   "execution_count": 32,
   "metadata": {},
   "outputs": [
    {
     "name": "stdout",
     "output_type": "stream",
     "text": [
      "357 / 358\n",
      "\tTranscurrido total: 46.15971849100015 s\n",
      "\tTranscurrido lapso: 0.13146149000021978 s\n",
      "\tRestante: 0.13146149000021978 s\n",
      "\n",
      "5to15_spline-cubica_cheb.mp4\n"
     ]
    },
    {
     "data": {
      "text/plain": [
       "'Done'"
      ]
     },
     "execution_count": 32,
     "metadata": {},
     "output_type": "execute_result"
    }
   ],
   "source": [
    "interpolador = \"spline-cubica\"\n",
    "old_fps = 5\n",
    "dst_fps = 15\n",
    "puntos = \"cheb\"\n",
    "nombre = str(old_fps)+\"to\"+str(dst_fps)+\"_\"+interpolador+\"_\"+puntos+\".mp4\"\n",
    "print(nombre)\n",
    "interpolate_video(nombre, old_fps, dst_fps, interpolador, puntos)"
   ]
  },
  {
   "cell_type": "code",
   "execution_count": 33,
   "metadata": {},
   "outputs": [
    {
     "name": "stdout",
     "output_type": "stream",
     "text": [
      "357 / 358\n",
      "\tTranscurrido total: 49.892873581 s\n",
      "\tTranscurrido lapso: 0.13645084100016902 s\n",
      "\tRestante: 0.13645084100016902 s\n",
      "\n",
      "5to60_spline-cubica_equi.mp4\n"
     ]
    },
    {
     "data": {
      "text/plain": [
       "'Done'"
      ]
     },
     "execution_count": 33,
     "metadata": {},
     "output_type": "execute_result"
    }
   ],
   "source": [
    "interpolador = \"spline-cubica\"\n",
    "old_fps = 5\n",
    "dst_fps = 60\n",
    "puntos = \"equi\"\n",
    "nombre = str(old_fps)+\"to\"+str(dst_fps)+\"_\"+interpolador+\"_\"+puntos+\".mp4\"\n",
    "print(nombre)\n",
    "interpolate_video(nombre, old_fps, dst_fps, interpolador, puntos)"
   ]
  },
  {
   "cell_type": "code",
   "execution_count": 35,
   "metadata": {},
   "outputs": [
    {
     "name": "stdout",
     "output_type": "stream",
     "text": [
      "357 / 358\n",
      "\tTranscurrido total: 47.53604554499998 s\n",
      "\tTranscurrido lapso: 0.12148241200020493 s\n",
      "\tRestante: 0.12148241200020493 s\n",
      "\n",
      "5to60_spline-cubica_cheb.mp4\n"
     ]
    },
    {
     "data": {
      "text/plain": [
       "'Done'"
      ]
     },
     "execution_count": 35,
     "metadata": {},
     "output_type": "execute_result"
    }
   ],
   "source": [
    "interpolador = \"spline-cubica\"\n",
    "old_fps = 5\n",
    "dst_fps = 60\n",
    "puntos = \"cheb\"\n",
    "nombre = str(old_fps)+\"to\"+str(dst_fps)+\"_\"+interpolador+\"_\"+puntos+\".mp4\"\n",
    "print(nombre)\n",
    "interpolate_video(nombre, old_fps, dst_fps, interpolador, puntos)"
   ]
  },
  {
   "cell_type": "markdown",
   "metadata": {},
   "source": [
    "spline-lineal"
   ]
  },
  {
   "cell_type": "code",
   "execution_count": 36,
   "metadata": {},
   "outputs": [
    {
     "name": "stdout",
     "output_type": "stream",
     "text": [
      "357 / 358\n",
      "\tTranscurrido total: 12984.252803819 s\n",
      "\tTranscurrido lapso: 36.52935028600041 s\n",
      "\tRestante: 36.52935028600041 s\n",
      "\n",
      "30to60_spline-lineal_equi.mp4\n"
     ]
    },
    {
     "data": {
      "text/plain": [
       "'Done'"
      ]
     },
     "execution_count": 36,
     "metadata": {},
     "output_type": "execute_result"
    }
   ],
   "source": [
    "interpolador = \"spline-lineal\"\n",
    "old_fps = 30\n",
    "dst_fps = 60\n",
    "puntos = \"equi\"\n",
    "nombre = str(old_fps)+\"to\"+str(dst_fps)+\"_\"+interpolador+\"_\"+puntos+\".mp4\"\n",
    "print(nombre)\n",
    "interpolate_video(nombre, old_fps, dst_fps, interpolador, puntos)"
   ]
  },
  {
   "cell_type": "code",
   "execution_count": 37,
   "metadata": {},
   "outputs": [
    {
     "name": "stdout",
     "output_type": "stream",
     "text": [
      "357 / 358\n",
      "\tTranscurrido total: 2368.2602621690003 s\n",
      "\tTranscurrido lapso: 6.763097611001285 s\n",
      "\tRestante: 6.763097611001285 s\n",
      "\n",
      "30to60_spline-lineal_cheb.mp4\n"
     ]
    },
    {
     "data": {
      "text/plain": [
       "'Done'"
      ]
     },
     "execution_count": 37,
     "metadata": {},
     "output_type": "execute_result"
    }
   ],
   "source": [
    "interpolador = \"spline-lineal\"\n",
    "old_fps = 30\n",
    "dst_fps = 60\n",
    "puntos = \"cheb\"\n",
    "nombre = str(old_fps)+\"to\"+str(dst_fps)+\"_\"+interpolador+\"_\"+puntos+\".mp4\"\n",
    "print(nombre)\n",
    "interpolate_video(nombre, old_fps, dst_fps, interpolador, puntos)"
   ]
  },
  {
   "cell_type": "code",
   "execution_count": 38,
   "metadata": {},
   "outputs": [
    {
     "name": "stdout",
     "output_type": "stream",
     "text": [
      "357 / 358\n",
      "\tTranscurrido total: 3587.716891181997 s\n",
      "\tTranscurrido lapso: 10.02043315300034 s\n",
      "\tRestante: 10.02043315300034 s\n",
      "\n",
      "15to30_spline-lineal_equi.mp4\n"
     ]
    },
    {
     "data": {
      "text/plain": [
       "'Done'"
      ]
     },
     "execution_count": 38,
     "metadata": {},
     "output_type": "execute_result"
    }
   ],
   "source": [
    "interpolador = \"spline-lineal\"\n",
    "old_fps = 15\n",
    "dst_fps = 30\n",
    "puntos = \"equi\"\n",
    "nombre = str(old_fps)+\"to\"+str(dst_fps)+\"_\"+interpolador+\"_\"+puntos+\".mp4\"\n",
    "print(nombre)\n",
    "interpolate_video(nombre, old_fps, dst_fps, interpolador, puntos)"
   ]
  },
  {
   "cell_type": "code",
   "execution_count": 39,
   "metadata": {},
   "outputs": [
    {
     "name": "stdout",
     "output_type": "stream",
     "text": [
      "357 / 358\n",
      "\tTranscurrido total: 628.3362317680003 s\n",
      "\tTranscurrido lapso: 1.5444463359999645 s\n",
      "\tRestante: 1.5444463359999645 s\n",
      "\n",
      "15to30_spline-lineal_cheb.mp4\n"
     ]
    },
    {
     "data": {
      "text/plain": [
       "'Done'"
      ]
     },
     "execution_count": 39,
     "metadata": {},
     "output_type": "execute_result"
    }
   ],
   "source": [
    "interpolador = \"spline-lineal\"\n",
    "old_fps = 15\n",
    "dst_fps = 30\n",
    "puntos = \"cheb\"\n",
    "nombre = str(old_fps)+\"to\"+str(dst_fps)+\"_\"+interpolador+\"_\"+puntos+\".mp4\"\n",
    "print(nombre)\n",
    "interpolate_video(nombre, old_fps, dst_fps, interpolador, puntos)"
   ]
  },
  {
   "cell_type": "code",
   "execution_count": 32,
   "metadata": {},
   "outputs": [
    {
     "name": "stdout",
     "output_type": "stream",
     "text": [
      "357 / 358\n",
      "\tTranscurrido total: 358.3466856539999 s\n",
      "\tTranscurrido lapso: 0.9881022609997672 s\n",
      "\tRestante: 0.9881022609997672 s\n",
      "\n",
      "5to15_spline-lineal_equi.mp4\n"
     ]
    },
    {
     "data": {
      "text/plain": [
       "'Done'"
      ]
     },
     "execution_count": 32,
     "metadata": {},
     "output_type": "execute_result"
    }
   ],
   "source": [
    "interpolador = \"spline-lineal\"\n",
    "old_fps = 5\n",
    "dst_fps = 15\n",
    "puntos = \"equi\"\n",
    "nombre = str(old_fps)+\"to\"+str(dst_fps)+\"_\"+interpolador+\"_\"+puntos+\".mp4\"\n",
    "print(nombre)\n",
    "interpolate_video(nombre, old_fps, dst_fps, interpolador, puntos)"
   ]
  },
  {
   "cell_type": "code",
   "execution_count": 41,
   "metadata": {},
   "outputs": [
    {
     "name": "stdout",
     "output_type": "stream",
     "text": [
      "357 / 358\n",
      "\tTranscurrido total: 122.24525107400041 s\n",
      "\tTranscurrido lapso: 0.34042970899827196 s\n",
      "\tRestante: 0.34042970899827196 s\n",
      "\n",
      "5to15_spline-lineal_cheb.mp4\n"
     ]
    },
    {
     "data": {
      "text/plain": [
       "'Done'"
      ]
     },
     "execution_count": 41,
     "metadata": {},
     "output_type": "execute_result"
    }
   ],
   "source": [
    "interpolador = \"spline-lineal\"\n",
    "old_fps = 5\n",
    "dst_fps = 15\n",
    "puntos = \"cheb\"\n",
    "nombre = str(old_fps)+\"to\"+str(dst_fps)+\"_\"+interpolador+\"_\"+puntos+\".mp4\"\n",
    "print(nombre)\n",
    "interpolate_video(nombre, old_fps, dst_fps, interpolador, puntos)"
   ]
  },
  {
   "cell_type": "code",
   "execution_count": 42,
   "metadata": {},
   "outputs": [
    {
     "name": "stdout",
     "output_type": "stream",
     "text": [
      "357 / 358\n",
      "\tTranscurrido total: 2218.200347676 s\n",
      "\tTranscurrido lapso: 6.148735802998999 s\n",
      "\tRestante: 6.148735802998999 s\n",
      "\n",
      "5to60_spline-lineal_equi.mp4\n"
     ]
    },
    {
     "data": {
      "text/plain": [
       "'Done'"
      ]
     },
     "execution_count": 42,
     "metadata": {},
     "output_type": "execute_result"
    }
   ],
   "source": [
    "interpolador = \"spline-lineal\"\n",
    "old_fps = 5\n",
    "dst_fps = 60\n",
    "puntos = \"equi\"\n",
    "nombre = str(old_fps)+\"to\"+str(dst_fps)+\"_\"+interpolador+\"_\"+puntos+\".mp4\"\n",
    "print(nombre)\n",
    "interpolate_video(nombre, old_fps, dst_fps, interpolador, puntos)"
   ]
  },
  {
   "cell_type": "code",
   "execution_count": null,
   "metadata": {},
   "outputs": [
    {
     "name": "stdout",
     "output_type": "stream",
     "text": [
      "357 / 358\n",
      "\tTranscurrido total: 467.133012590999 s\n",
      "\tTranscurrido lapso: 1.3266752029994677 s\n",
      "\tRestante: 1.3266752029994677 s\n",
      "\n",
      "5to60_spline-lineal_cheb.mp4\n"
     ]
    },
    {
     "data": {
      "text/plain": [
       "'Done'"
      ]
     },
     "execution_count": 43,
     "metadata": {},
     "output_type": "execute_result"
    }
   ],
   "source": [
    "interpolador = \"spline-lineal\"\n",
    "old_fps = 5\n",
    "dst_fps = 60\n",
    "puntos = \"cheb\"\n",
    "nombre = str(old_fps)+\"to\"+str(dst_fps)+\"_\"+interpolador+\"_\"+puntos+\".mp4\"\n",
    "print(nombre)\n",
    "interpolate_video(nombre, old_fps, dst_fps, interpolador, puntos)"
   ]
  },
  {
   "cell_type": "markdown",
   "metadata": {},
   "source": [
    "baricentrica"
   ]
  },
  {
   "cell_type": "code",
   "execution_count": null,
   "metadata": {},
   "outputs": [
    {
     "name": "stdout",
     "output_type": "stream",
     "text": [
      "357 / 358\n",
      "\tTranscurrido total: 363.66579735100095 s\n",
      "\tTranscurrido lapso: 1.0212487280005007 s\n",
      "\tRestante: 1.0212487280005007 s\n",
      "\n",
      "30to60_baricentrica_equi.mp4\n"
     ]
    },
    {
     "data": {
      "text/plain": [
       "'Done'"
      ]
     },
     "execution_count": 44,
     "metadata": {},
     "output_type": "execute_result"
    }
   ],
   "source": [
    "interpolador = \"baricentrica\"\n",
    "old_fps = 30\n",
    "dst_fps = 60\n",
    "puntos = \"equi\"\n",
    "nombre = str(old_fps)+\"to\"+str(dst_fps)+\"_\"+interpolador+\"_\"+puntos+\".mp4\"\n",
    "print(nombre)\n",
    "interpolate_video(nombre, old_fps, dst_fps, interpolador, puntos)"
   ]
  },
  {
   "cell_type": "code",
   "execution_count": null,
   "metadata": {},
   "outputs": [
    {
     "name": "stdout",
     "output_type": "stream",
     "text": [
      "357 / 358\n",
      "\tTranscurrido total: 353.54291033900154 s\n",
      "\tTranscurrido lapso: 0.9921859690002748 s\n",
      "\tRestante: 0.9921859690002748 s\n",
      "\n",
      "30to60_baricentrica_cheb.mp4\n"
     ]
    },
    {
     "data": {
      "text/plain": [
       "'Done'"
      ]
     },
     "execution_count": 45,
     "metadata": {},
     "output_type": "execute_result"
    }
   ],
   "source": [
    "interpolador = \"baricentrica\"\n",
    "old_fps = 30\n",
    "dst_fps = 60\n",
    "puntos = \"cheb\"\n",
    "nombre = str(old_fps)+\"to\"+str(dst_fps)+\"_\"+interpolador+\"_\"+puntos+\".mp4\"\n",
    "print(nombre)\n",
    "interpolate_video(nombre, old_fps, dst_fps, interpolador, puntos)"
   ]
  },
  {
   "cell_type": "code",
   "execution_count": null,
   "metadata": {},
   "outputs": [
    {
     "name": "stdout",
     "output_type": "stream",
     "text": [
      "357 / 358\n",
      "\tTranscurrido total: 187.598409025999 s\n",
      "\tTranscurrido lapso: 0.5088453919997846 s\n",
      "\tRestante: 0.5088453919997846 s\n",
      "\n",
      "15to30_baricentrica_equi.mp4\n"
     ]
    },
    {
     "data": {
      "text/plain": [
       "'Done'"
      ]
     },
     "execution_count": 46,
     "metadata": {},
     "output_type": "execute_result"
    }
   ],
   "source": [
    "interpolador = \"baricentrica\"\n",
    "old_fps = 15\n",
    "dst_fps = 30\n",
    "puntos = \"equi\"\n",
    "nombre = str(old_fps)+\"to\"+str(dst_fps)+\"_\"+interpolador+\"_\"+puntos+\".mp4\"\n",
    "print(nombre)\n",
    "interpolate_video(nombre, old_fps, dst_fps, interpolador, puntos)"
   ]
  },
  {
   "cell_type": "code",
   "execution_count": null,
   "metadata": {},
   "outputs": [
    {
     "name": "stdout",
     "output_type": "stream",
     "text": [
      "357 / 358\n",
      "\tTranscurrido total: 186.140898362999 s\n",
      "\tTranscurrido lapso: 0.530511345998093 s\n",
      "\tRestante: 0.530511345998093 s\n",
      "\n",
      "15to30_baricentrica_cheb.mp4\n"
     ]
    },
    {
     "data": {
      "text/plain": [
       "'Done'"
      ]
     },
     "execution_count": 47,
     "metadata": {},
     "output_type": "execute_result"
    }
   ],
   "source": [
    "interpolador = \"baricentrica\"\n",
    "old_fps = 15\n",
    "dst_fps = 30\n",
    "puntos = \"cheb\"\n",
    "nombre = str(old_fps)+\"to\"+str(dst_fps)+\"_\"+interpolador+\"_\"+puntos+\".mp4\"\n",
    "print(nombre)\n",
    "interpolate_video(nombre, old_fps, dst_fps, interpolador, puntos)"
   ]
  },
  {
   "cell_type": "code",
   "execution_count": null,
   "metadata": {},
   "outputs": [
    {
     "name": "stdout",
     "output_type": "stream",
     "text": [
      "357 / 358\n",
      "\tTranscurrido total: 59.86372435700105 s\n",
      "\tTranscurrido lapso: 0.16630349700062652 s\n",
      "\tRestante: 0.16630349700062652 s\n",
      "\n",
      "5to15_baricentrica_equi.mp4\n"
     ]
    },
    {
     "data": {
      "text/plain": [
       "'Done'"
      ]
     },
     "execution_count": 48,
     "metadata": {},
     "output_type": "execute_result"
    }
   ],
   "source": [
    "interpolador = \"baricentrica\"\n",
    "old_fps = 5\n",
    "dst_fps = 15\n",
    "puntos = \"equi\"\n",
    "nombre = str(old_fps)+\"to\"+str(dst_fps)+\"_\"+interpolador+\"_\"+puntos+\".mp4\"\n",
    "print(nombre)\n",
    "interpolate_video(nombre, old_fps, dst_fps, interpolador, puntos)"
   ]
  },
  {
   "cell_type": "code",
   "execution_count": null,
   "metadata": {},
   "outputs": [
    {
     "name": "stdout",
     "output_type": "stream",
     "text": [
      "357 / 358\n",
      "\tTranscurrido total: 59.46706873899893 s\n",
      "\tTranscurrido lapso: 0.16567331500118598 s\n",
      "\tRestante: 0.16567331500118598 s\n",
      "\n",
      "5to15_baricentrica_cheb.mp4\n"
     ]
    },
    {
     "data": {
      "text/plain": [
       "'Done'"
      ]
     },
     "execution_count": 49,
     "metadata": {},
     "output_type": "execute_result"
    }
   ],
   "source": [
    "interpolador = \"baricentrica\"\n",
    "old_fps = 5\n",
    "dst_fps = 15\n",
    "puntos = \"cheb\"\n",
    "nombre = str(old_fps)+\"to\"+str(dst_fps)+\"_\"+interpolador+\"_\"+puntos+\".mp4\"\n",
    "print(nombre)\n",
    "interpolate_video(nombre, old_fps, dst_fps, interpolador, puntos)"
   ]
  },
  {
   "cell_type": "code",
   "execution_count": null,
   "metadata": {},
   "outputs": [
    {
     "name": "stdout",
     "output_type": "stream",
     "text": [
      "357 / 358\n",
      "\tTranscurrido total: 71.82889896299821 s\n",
      "\tTranscurrido lapso: 0.20508027100004256 s\n",
      "\tRestante: 0.20508027100004256 s\n",
      "\n",
      "5to60_baricentrica_equi.mp4\n"
     ]
    },
    {
     "data": {
      "text/plain": [
       "'Done'"
      ]
     },
     "execution_count": 50,
     "metadata": {},
     "output_type": "execute_result"
    }
   ],
   "source": [
    "interpolador = \"baricentrica\"\n",
    "old_fps = 5\n",
    "dst_fps = 60\n",
    "puntos = \"equi\"\n",
    "nombre = str(old_fps)+\"to\"+str(dst_fps)+\"_\"+interpolador+\"_\"+puntos+\".mp4\"\n",
    "print(nombre)\n",
    "interpolate_video(nombre, old_fps, dst_fps, interpolador, puntos)"
   ]
  },
  {
   "cell_type": "code",
   "execution_count": null,
   "metadata": {},
   "outputs": [
    {
     "name": "stdout",
     "output_type": "stream",
     "text": [
      "357 / 358\n",
      "\tTranscurrido total: 70.05616927099982 s\n",
      "\tTranscurrido lapso: 0.19654392899974482 s\n",
      "\tRestante: 0.19654392899974482 s\n",
      "\n",
      "5to60_baricentrica_cheb.mp4\n"
     ]
    },
    {
     "data": {
      "text/plain": [
       "'Done'"
      ]
     },
     "execution_count": 51,
     "metadata": {},
     "output_type": "execute_result"
    }
   ],
   "source": [
    "interpolador = \"baricentrica\"\n",
    "old_fps = 5\n",
    "dst_fps = 60\n",
    "puntos = \"cheb\"\n",
    "nombre = str(old_fps)+\"to\"+str(dst_fps)+\"_\"+interpolador+\"_\"+puntos+\".mp4\"\n",
    "print(nombre)\n",
    "interpolate_video(nombre, old_fps, dst_fps, interpolador, puntos)"
   ]
  },
  {
   "cell_type": "markdown",
   "metadata": {},
   "source": [
    "lagrange"
   ]
  },
  {
   "cell_type": "code",
   "execution_count": null,
   "metadata": {},
   "outputs": [
    {
     "name": "stdout",
     "output_type": "stream",
     "text": [
      "67 / 358\n",
      "\tTranscurrido total: 33567.732559646 s\n",
      "\tTranscurrido lapso: 559.4520006300008 s\n",
      "\tRestante: 162800.53218333024 s\n",
      "\n"
     ]
    }
   ],
   "source": [
    "interpolador = \"lagrange\"\n",
    "old_fps = 30\n",
    "dst_fps = 60\n",
    "puntos = \"equi\"\n",
    "nombre = str(old_fps)+\"to\"+str(dst_fps)+\"_\"+interpolador+\"_\"+puntos+\".mp4\"\n",
    "print(nombre)\n",
    "interpolate_video(nombre, old_fps, dst_fps, interpolador, puntos)"
   ]
  },
  {
   "cell_type": "code",
   "execution_count": null,
   "metadata": {},
   "outputs": [],
   "source": [
    "interpolador = \"lagrange\"\n",
    "old_fps = 30\n",
    "dst_fps = 60\n",
    "puntos = \"cheb\"\n",
    "nombre = str(old_fps)+\"to\"+str(dst_fps)+\"_\"+interpolador+\"_\"+puntos+\".mp4\"\n",
    "print(nombre)\n",
    "interpolate_video(nombre, old_fps, dst_fps, interpolador, puntos)"
   ]
  },
  {
   "cell_type": "code",
   "execution_count": null,
   "metadata": {},
   "outputs": [],
   "source": [
    "interpolador = \"lagrange\"\n",
    "old_fps = 15\n",
    "dst_fps = 30\n",
    "puntos = \"equi\"\n",
    "nombre = str(old_fps)+\"to\"+str(dst_fps)+\"_\"+interpolador+\"_\"+puntos+\".mp4\"\n",
    "print(nombre)\n",
    "interpolate_video(nombre, old_fps, dst_fps, interpolador, puntos)"
   ]
  },
  {
   "cell_type": "code",
   "execution_count": null,
   "metadata": {},
   "outputs": [],
   "source": [
    "interpolador = \"lagrange\"\n",
    "old_fps = 15\n",
    "dst_fps = 30\n",
    "puntos = \"cheb\"\n",
    "nombre = str(old_fps)+\"to\"+str(dst_fps)+\"_\"+interpolador+\"_\"+puntos+\".mp4\"\n",
    "print(nombre)\n",
    "interpolate_video(nombre, old_fps, dst_fps, interpolador, puntos)"
   ]
  },
  {
   "cell_type": "code",
   "execution_count": null,
   "metadata": {},
   "outputs": [],
   "source": [
    "interpolador = \"lagrange\"\n",
    "old_fps = 5\n",
    "dst_fps = 15\n",
    "puntos = \"equi\"\n",
    "nombre = str(old_fps)+\"to\"+str(dst_fps)+\"_\"+interpolador+\"_\"+puntos+\".mp4\"\n",
    "print(nombre)\n",
    "interpolate_video(nombre, old_fps, dst_fps, interpolador, puntos)"
   ]
  },
  {
   "cell_type": "code",
   "execution_count": 8,
   "metadata": {},
   "outputs": [
    {
     "name": "stdout",
     "output_type": "stream",
     "text": [
      "5 / 358\n",
      "Tiempo excedido\n"
     ]
    }
   ],
   "source": [
    "interpolador = \"lagrange\"\n",
    "old_fps = 5\n",
    "dst_fps = 15\n",
    "puntos = \"cheb\"\n",
    "nombre = str(old_fps)+\"to\"+str(dst_fps)+\"_\"+interpolador+\"_\"+puntos+\".mp4\"\n",
    "print(nombre)\n",
    "interpolate_video(nombre, old_fps, dst_fps, interpolador, puntos)"
   ]
  },
  {
   "cell_type": "code",
   "execution_count": null,
   "metadata": {},
   "outputs": [],
   "source": [
    "interpolador = \"lagrange\"\n",
    "old_fps = 5\n",
    "dst_fps = 60\n",
    "puntos = \"equi\"\n",
    "nombre = str(old_fps)+\"to\"+str(dst_fps)+\"_\"+interpolador+\"_\"+puntos+\".mp4\"\n",
    "print(nombre)\n",
    "interpolate_video(nombre, old_fps, dst_fps, interpolador, puntos)"
   ]
  },
  {
   "cell_type": "code",
   "execution_count": null,
   "metadata": {},
   "outputs": [],
   "source": [
    "interpolador = \"lagrange\"\n",
    "old_fps = 5\n",
    "dst_fps = 60\n",
    "puntos = \"cheb\"\n",
    "nombre = str(old_fps)+\"to\"+str(dst_fps)+\"_\"+interpolador+\"_\"+puntos+\".mp4\"\n",
    "print(nombre)\n",
    "interpolate_video(nombre, old_fps, dst_fps, interpolador, puntos)"
   ]
  },
  {
   "cell_type": "markdown",
   "metadata": {},
   "source": [
    "## Sección 2. Visualización del interpolador y del error, a través del tiempo\n",
    "\n",
    "1. Utilizando el *widget* adjunto, visualice los resultados generados por los interpoladores, su error y comente al respecto. ¿Qué método le parece que tiene un mejor desempeño?\n",
    "\n",
    "R. Analizando ambos tipos de puntos se vuelve evidente el fenomeno de Grunge al usar puntos equiespaciados, mas que nada cuando se interpola usando Baricentrica. Este fenomeno se vuelve casi imperceptible al usar puntos de Chebyshev.\n",
    "\n",
    "Entre los distintos metodos interpoladores, el que mayor error arrojaba era el metodo baricentrico, con errores del orden de 100, lo cual es mucho mayor a spline-lineal y spline-cubica, los cuales tienen errores relativos al orden del 10, los cuales lo volverian mejores metodos interpoladores.\n",
    "\n",
    "No pude analizar lagrange debido a que excedia el tiempo de ejecucion planteado."
   ]
  },
  {
   "cell_type": "code",
   "execution_count": 11,
   "metadata": {},
   "outputs": [
    {
     "data": {
      "application/vnd.jupyter.widget-view+json": {
       "model_id": "1a68756c231e41b78db7644b687f9d93",
       "version_major": 2,
       "version_minor": 0
      },
      "text/plain": [
       "interactive(children=(Dropdown(description='method', options=('spline-cubica', 'spline-lineal', 'lagrange', 'b…"
      ]
     },
     "metadata": {},
     "output_type": "display_data"
    }
   ],
   "source": [
    "# Widget to plot the interpolation function\n",
    "def plot_interpolation(method, points_dist, i, j, fps_increase_type):\n",
    "    seconds = 5\n",
    "    # Elegimos el video a trabajar\n",
    "    if fps_increase_type == \"5->15\":\n",
    "        frames = video_to_matrix('video_15fps.mp4', seconds)\n",
    "        old_fps, new_fps = (5, 15)\n",
    "    elif fps_increase_type == \"5->60\":\n",
    "        frames = video_to_matrix('video_60fps.mp4', seconds)\n",
    "        old_fps, new_fps = (5, 60)\n",
    "    elif fps_increase_type == \"15->30\":\n",
    "        frames = video_to_matrix('video_30fps.mp4', seconds)\n",
    "        old_fps, new_fps = (15, 30)\n",
    "    else:\n",
    "        frames = video_to_matrix('video_60fps.mp4', seconds)\n",
    "        old_fps, new_fps = (30, 60)\n",
    "    \n",
    "    # Un punto por frame\n",
    "    x = np.arange(0, frames.shape[2], 1)\n",
    "    \n",
    "    interpolated_video_name = str(old_fps)+'to'+str(new_fps)+'_'+method+\"_\"+points_dist+'.mp4'\n",
    "    interp_frames = video_to_matrix(interpolated_video_name, seconds)\n",
    "    if(len(interp_frames) == 0):\n",
    "        print(\"El video debe haber sido generado previamente para generar los graficos.\\n:(\\n\")\n",
    "        return\n",
    "\n",
    "    plt.figure(figsize=(15, 14))\n",
    "    \n",
    "    # Grafico del interpolador y los pixeles reales\n",
    "    plt.subplot(211)\n",
    "    plt.plot(x, interp_frames[i,j,:], 'rx-', label='Video interpolados')\n",
    "    plt.plot(x, frames[i,j,:], 'bd', label='Video esperado')\n",
    "    plt.ylim([0, 256])\n",
    "    plt.title('Comparación entre los pixeles interpolados y los deseados')\n",
    "    plt.xlabel('Frame')\n",
    "    plt.ylabel('Valor pixel')\n",
    "    plt.grid(True)\n",
    "    \n",
    "    # Grafico del error\n",
    "    plt.subplot(212)\n",
    "    error_matrix = frames - interp_frames\n",
    "    plt.plot(x, error_matrix[i,j,:], 'sk-', label='Error de interpolación')\n",
    "    mean_error = np.zeros(error_matrix.shape[2])\n",
    "    sigma = mean_error.copy()\n",
    "    for k in range(error_matrix.shape[2]):\n",
    "        mean_error[k] = error_matrix[:,:,k].mean()\n",
    "        sigma[k] = error_matrix[:,:,k].std()\n",
    "    plt.plot(x, mean_error, '.-', label='Error medio de interpolación')\n",
    "    plt.plot(x, mean_error + sigma, label='Error medio + desviación estándar')\n",
    "    plt.plot(x, mean_error - sigma, label='Error medio - desviación estándar')\n",
    "    plt.title('Error de interpolación')\n",
    "    plt.xlabel('Frame')\n",
    "    plt.ylabel('Error')\n",
    "    plt.grid(True)\n",
    "    plt.legend(loc='best')\n",
    "    \n",
    "    plt.show()\n",
    "\n",
    "# https://ipywidgets.readthedocs.io/en/stable/examples/Using%20Interact.html#interact_manual\n",
    "interact_manual(\n",
    "    plot_interpolation, \n",
    "    method=[\"spline-cubica\",\"spline-lineal\",\"lagrange\",\"baricentrica\"],\n",
    "    points_dist=[\"equi\",\"cheb\"],\n",
    "    j=(0, 511),\n",
    "    i=(0, 269),\n",
    "    fps_increase_type=[\"5->60\", \"5->15\", \"15->30\", \"30->60\"]\n",
    ");\n"
   ]
  },
  {
   "cell_type": "markdown",
   "metadata": {},
   "source": [
    "## Sección 3. Comparación de Videos\n",
    "\n",
    "1. Utilizando los videos generados en la pregunta anterior, compare visualmente los videos generados con su versión de \"origen\" (video original al que se le agregaron nuevos *frames*) y con la versión \"esperada\" del video; por ejemplo, para la interpolación de 15fps a 30fps, el video de origen sería _video_\\__15fps.mp4_, y el video esperado _video_\\__30fps.mp4_. Comente al respecto. ¿Se realiza correctamente la interpolación? ¿Qué es lo que está haciendo visualmente la interpolación en los videos?\n",
    "\n",
    "R. Comparando visualmente los videos, es muy notorio el fenomeno de Grunge al usar puntos equiespaciados en metodos como baricentrica, mostrando mucha distorsion al inicio y al final del video, normalizandose un poco en el centro de este.\n",
    "\n",
    "El metodo de spline-cubico entrega muchos menos errores, pero aun asi se encuentran visibles como pequeñas 'manchitas' en algunas partes especificas del video.\n",
    "\n",
    "Spline-lineal no entrega ningun error perceptible.\n",
    "\n",
    "Ningun metodo realiza una interpolacion 'correcta', dado a que no genera los frames intermedios que uno esperaria, si no que entrega un valor intermedio entre los pixeles reales. Esto debido a que se esta realizando un analizis por pixel exclusivamente.\n",
    "\n",
    "2. Comente respecto a los tiempos de cómputo obtenidos. ¿Existe alguna correlación entre la calidad del video generado y los tiempos de cómputo?\n",
    "\n",
    "R. Los tiempos de computo obtenidos fueron contrarios a lo que hubiera esperado antes de realizar las pruebas, estos debido a que los metodos mas rapidos (splines) fueron los que dieron resultados con menos errores visibles, mientras que baricentrica demoraba mucho mas y entregaba errores mucho mas grandes, o lagrange, el cual excedia el tiempo de computo y que estimo que entregaria los peores resultados, debido a que es numericamente inestable.\n",
    "\n",
    "3. Comente respecto al efecto de la distribución de puntos. ¿Genera alguna diferencia la distribución de puntos equiespaciada respecto a los puntos de Chebyshev?\n",
    "\n",
    "R. Tal como era de esperarse, la distribucion equiespaciada genera el fenomeno de Grunge de forma visible, dando problemas tanto al inicio del video como al final, lo cual disminuye Chebyshev."
   ]
  },
  {
   "cell_type": "code",
   "execution_count": 10,
   "metadata": {},
   "outputs": [],
   "source": [
    "def repeat_frames(src_frames, dst_frames):\n",
    "    new_frames = np.zeros((dst_frames.shape[0], dst_frames.shape[1], dst_frames.shape[2]))\n",
    "    ratio = dst_frames.shape[2] // src_frames.shape[2]\n",
    "    for i in range(src_frames.shape[0]):\n",
    "        for j in range(src_frames.shape[1]):\n",
    "            for k in range(src_frames.shape[2]):\n",
    "                for l in range(ratio):\n",
    "                    new_frames[i][j][k*ratio + l] = src_frames[i][j][k]\n",
    "    return new_frames\n",
    "\n",
    "\n",
    "'''\n",
    "src_name: name/path of first video\n",
    "dst_name: name/path of second video\n",
    "seconds : seconds of video to consider.\n",
    "\n",
    "returns: None\n",
    "'''\n",
    "def concat_2_videos(src_name, dst_name, seconds):\n",
    "    stream = cv2.VideoCapture(src_name)\n",
    "    src_frames = video_to_matrix(src_name, seconds)\n",
    "    print(\"FPS VIDEO \"+src_name+\": \",int(src_frames.shape[2]/seconds))\n",
    "    \n",
    "    stream_2 = cv2.VideoCapture(dst_name)  \n",
    "    dst_frames = video_to_matrix(dst_name, seconds)\n",
    "    print(\"FPS VIDEO \"+dst_name+\": \",int(dst_frames.shape[2]/seconds))\n",
    "    \n",
    "    # Close original videos\n",
    "    stream.release()\n",
    "    stream_2.release()\n",
    "    \n",
    "    if dst_frames.shape[2] != src_frames.shape[2]:\n",
    "        if dst_frames.shape[2] % src_frames.shape[2] == 0:\n",
    "            print(\"Repeating frames. Please wait\\nc:\")\n",
    "            src_frames = repeat_frames(src_frames, dst_frames)\n",
    "        elif src_frames.shape[2] % dst_frames.shape[2] == 0:\n",
    "            print(\"Repeating frames. Please wait\\nc:\")\n",
    "            dst_frames = repeat_frames(dst_frames, src_frames)\n",
    "        else:\n",
    "            print(\"No es posible concatenar dos videos de distinto fps\")\n",
    "            return\n",
    "    \n",
    "    fps = int(dst_frames.shape[2]/seconds)\n",
    "    \n",
    "    #concatenate both videos\n",
    "    conc_frames = np.concatenate((src_frames, dst_frames), axis=1)\n",
    "    \n",
    "    height = conc_frames.shape[0]\n",
    "    width = conc_frames.shape[1]\n",
    "    \n",
    "    #saving comparison on a new video\n",
    "    print(\"comparison_\"+src_name+\"_vs_\"+dst_name+\".mp4\")\n",
    "    out = cv2.VideoWriter(\"comparison_\"+src_name+\"_vs_\"+dst_name+\".mp4\",cv2.VideoWriter_fourcc('m','p','4','v'), fps, (width,height))\n",
    "   \n",
    "    for i in range(conc_frames.shape[2]):\n",
    "        frame = np.uint8(conc_frames[:,:,i])\n",
    "        out.write(np.dstack([frame, frame, frame]))\n",
    "    \n",
    "    out.release()\n",
    "    cv2.destroyAllWindows() "
   ]
  },
  {
   "cell_type": "code",
   "execution_count": 11,
   "metadata": {
    "scrolled": true
   },
   "outputs": [
    {
     "name": "stdout",
     "output_type": "stream",
     "text": [
      "FPS VIDEO 5to15_spline-lineal_cheb.mp4:  15\n",
      "FPS VIDEO video_5fps.mp4:  5\n",
      "Repeating frames. Please wait\n",
      "c:\n",
      "comparison_5to15_spline-lineal_cheb.mp4_vs_video_5fps.mp4.mp4\n"
     ]
    }
   ],
   "source": [
    "concat_2_videos(\"5to15_spline-lineal_cheb.mp4\", \"video_5fps.mp4\", 5)"
   ]
  },
  {
   "cell_type": "markdown",
   "metadata": {},
   "source": [
    "## Sección 4: Conclusión\n",
    "\n",
    "Considerando todo el trabajo anterior, concluya al respecto.\n",
    "\n",
    "1. ¿En palabras simples, qué es lo que realiza el interpolador entre cada par de *frames*?.\n",
    "\n",
    "El interpolador estima que valores se espera que tengan los pixeles de los frames intermedios. Esto se realiza tomando la informacion de un pixel a traves del tiempo, luego se genera una funcion interpoladora de esta informacion, para despues usar esta funcion en un nuevo conjunto de puntos, los cuales deberian ser los pixeles esperados para los frames nuevos.\n",
    "\n",
    "2. ¿De qué manera se pueden mejorar los métodos estudiados para aumentar el framerate de un video?.\n",
    "\n",
    "No considero que sea adecuado interpolar usando los pixeles de formas independiente. Se deberia analizar los pixeles en base a un conjunto, considerando la vecindad de cada pixel para generar una mejor funcion interpoladora y dar un mejor efecto de movimiento entre frames."
   ]
  },
  {
   "cell_type": "markdown",
   "metadata": {},
   "source": [
    "# Videos generados\n",
    "\n",
    "En el siguiente [enlace](https://drive.google.com/drive/folders/1q4OTnBgQpoqH7kdGhvXfJL0AX-NUy-Ww?usp=sharing) se pueden descargar los videos interpolados.\n",
    "\n",
    "El unico que no se encuentra es lagrange, debido a su alto tiempo de ejecucion."
   ]
  },
  {
   "cell_type": "markdown",
   "metadata": {},
   "source": [
    "# Referencias\n",
    "\n",
    "- [scipy.interpolate.CubicSpline](https://docs.scipy.org/doc/scipy-0.18.1/reference/generated/scipy.interpolate.CubicSpline.html)\n",
    "- [scipy.interpolate.lagrange](https://docs.scipy.org/doc/scipy/reference/generated/scipy.interpolate.lagrange.html)\n",
    "- [scipy.interpolate.BarycentricInterpolator](https://docs.scipy.org/doc/scipy/reference/generated/scipy.interpolate.BarycentricInterpolator.html)\n",
    "- [numpy.linspace](https://docs.scipy.org/doc/numpy/reference/generated/numpy.linspace.html)\n",
    "- [time.perf_counter](https://docs.python.org/3/library/time.html#time.perf_counter)\n"
   ]
  }
 ],
 "metadata": {
  "colab": {
   "collapsed_sections": [],
   "name": "Tarea3_borrador.ipynb",
   "provenance": [
    {
     "file_id": "https://github.com/sgallard/tareasCC/blob/master/tarea3/Tarea3_borrador.ipynb",
     "timestamp": 1558739969669
    }
   ],
   "version": "0.3.2"
  },
  "kernelspec": {
   "display_name": "Python 3",
   "language": "python",
   "name": "python3"
  },
  "language_info": {
   "codemirror_mode": {
    "name": "ipython",
    "version": 3
   },
   "file_extension": ".py",
   "mimetype": "text/x-python",
   "name": "python",
   "nbconvert_exporter": "python",
   "pygments_lexer": "ipython3",
   "version": "3.5.2"
  }
 },
 "nbformat": 4,
 "nbformat_minor": 1
}
